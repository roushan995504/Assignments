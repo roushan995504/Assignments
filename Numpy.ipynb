{
  "nbformat": 4,
  "nbformat_minor": 0,
  "metadata": {
    "colab": {
      "provenance": []
    },
    "kernelspec": {
      "name": "python3",
      "display_name": "Python 3"
    },
    "language_info": {
      "name": "python"
    }
  },
  "cells": [
    {
      "cell_type": "code",
      "execution_count": null,
      "metadata": {
        "id": "1gSoh_Xi1D1q"
      },
      "outputs": [],
      "source": []
    },
    {
      "cell_type": "markdown",
      "source": [
        "NumPy, short for \"Numerical Python,\" is a powerful library in Python designed for scientific computing and data analysis. It provides a multidimensional array object, tools for integrating C/C++ and Fortran code, and a collection of routines for performing fast operations on arrays.\n",
        "Here is how it enhances python capabilities.\n",
        "\n",
        "1.Efficient multidimension array\n",
        "At the core of NumPy is the ndarray object, an efficient multidimensional array that enables a wide variety of numerical operations.\n",
        "Advandage\n",
        "Unlike Python lists, NumPy arrays store data in contiguous memory locations. This arrangement allows faster access to data and more efficient storage, especially for large datasets.\n",
        "2.NumPy enables element-wise operations on arrays, allowing developers to perform arithmetic and mathematical operations across entire arrays without writing loops.\n",
        "3.\n",
        "Broadcasting allows NumPy to perform arithmetic operations on arrays of different shapes, enabling operations between arrays without needing to reshape or replicate them manually.\n",
        "4.\n",
        "NumPy provides a suite of optimized mathematical functions for common operations like trigonometry, statistics, linear algebra, and more.\n",
        "5.\n",
        "NumPy offers tools for reshaping, transposing, stacking, splitting, and merging arrays.\n",
        "6.NumPy is the foundation for many other data science libraries in Python, like pandas, SciPy, and scikit-learn, which use its arrays as their primary data structures.\n",
        "7. NumPy allows precise control over data types in arrays, such as int8, int16, float32, and float64, which can reduce memory usage when dealing with large datasets.\n"
      ],
      "metadata": {
        "id": "YqVWj-zi2Ef-"
      }
    },
    {
      "cell_type": "markdown",
      "source": [],
      "metadata": {
        "id": "jFQBuGKC34Ka"
      }
    },
    {
      "cell_type": "code",
      "source": [],
      "metadata": {
        "id": "alqLWPuA37vU"
      },
      "execution_count": null,
      "outputs": []
    },
    {
      "cell_type": "markdown",
      "source": [
        "2. Compare and contrast np.mean() and np.average() functions in NumPy. When would you use one over the\n",
        "other?\n",
        "In numpy both np.mean() and np.average() functions are used to calculate the average of an array, but they have some difference in there uses\n",
        "\n",
        "where np.mean Computes the arithmetic mean (average) of the elements in an array or along a specified axis.\n",
        "np.average(): it does not support weighting.It calculates the mean by simply summing all elements and dividing by the count.\n",
        "\n",
        "Computes the weighted average of the elements in an array, if weights are provided. If weights are not provided, it functions the same as np.mean() by calculating the simple average.\n",
        "\n",
        "Both np.mean() and np.average() return the same type, generally a scalar if no axis is specified or an array if computed along an axis. return answer in float.\n",
        "\n",
        "Example trough code"
      ],
      "metadata": {
        "id": "c-Tf9wej38hz"
      }
    },
    {
      "cell_type": "markdown",
      "source": [],
      "metadata": {
        "id": "GrLQEdM32DmN"
      }
    },
    {
      "cell_type": "code",
      "source": [
        "import numpy as np\n",
        "data=np.array([10,20,30,40])\n",
        "mean = np.mean(data) # it calculate simply mean\n",
        "weights =np.array([1,2,3,4])\n",
        "weighted_mean = np.average(data, weights=weights)\n",
        "print(\"simple mean\",mean) # 25.0\n",
        "print(\"weighted mean\",weighted_mean) #30.0"
      ],
      "metadata": {
        "colab": {
          "base_uri": "https://localhost:8080/"
        },
        "id": "kunprUcV55Q1",
        "outputId": "6f8dfcce-02ed-4134-a73d-fae88b32d3d0"
      },
      "execution_count": null,
      "outputs": [
        {
          "output_type": "stream",
          "name": "stdout",
          "text": [
            "simple mean 25.0\n",
            "weighted mean 30.0\n"
          ]
        }
      ]
    },
    {
      "cell_type": "markdown",
      "source": [
        "3.Describe the methods for reversing a NumPy array along different axes. Provide examples for 1D and 2D\n",
        "arrays.\n",
        "1D array\n",
        "In a 1-dimensional array, reversing the array simply means changing the order of elements.\n"
      ],
      "metadata": {
        "id": "cfcUgS4965Pn"
      }
    },
    {
      "cell_type": "code",
      "source": [
        "#using slicing\n",
        "import numpy as np\n",
        "arr_1d = np.array([1, 2, 3, 4, 5])\n",
        "reverse = arr_1d[::-1]\n",
        "print(reverse)"
      ],
      "metadata": {
        "colab": {
          "base_uri": "https://localhost:8080/"
        },
        "id": "H6DdQIPWANqN",
        "outputId": "d7ffb664-3f79-437e-e93d-28a32beb93e4"
      },
      "execution_count": null,
      "outputs": [
        {
          "output_type": "stream",
          "name": "stdout",
          "text": [
            "[5 4 3 2 1]\n"
          ]
        }
      ]
    },
    {
      "cell_type": "code",
      "source": [
        "#using flip\n",
        "reversed_1d_flip = np.flip(arr_1d)\n",
        "print(reversed_1d_flip)"
      ],
      "metadata": {
        "colab": {
          "base_uri": "https://localhost:8080/"
        },
        "id": "DcdvZNl5BMPG",
        "outputId": "282e319e-90f9-422c-e7a5-491befb992e4"
      },
      "execution_count": null,
      "outputs": [
        {
          "output_type": "stream",
          "name": "stdout",
          "text": [
            "[5 4 3 2 1]\n"
          ]
        }
      ]
    },
    {
      "cell_type": "code",
      "source": [
        "#Reversing a 2-D array\n",
        "arr_2d = np.array([[1, 2, 3],\n",
        "                   [4, 5, 6],\n",
        "                   [7, 8, 9]])\n",
        "reverse_2d = arr_2d[::-1,]\n",
        "print(reverse_2d)"
      ],
      "metadata": {
        "colab": {
          "base_uri": "https://localhost:8080/"
        },
        "id": "HvbTun2dBhTw",
        "outputId": "59c5489f-378e-459e-a154-b8673cc12e83"
      },
      "execution_count": null,
      "outputs": [
        {
          "output_type": "stream",
          "name": "stdout",
          "text": [
            "[[7 8 9]\n",
            " [4 5 6]\n",
            " [1 2 3]]\n"
          ]
        }
      ]
    },
    {
      "cell_type": "code",
      "source": [
        "#Reversing 1 2-D array with np.flip with axis\n",
        "reversed_rows_flip = np.flip(arr_2d, axis=0)\n",
        "print(reversed_rows_flip)"
      ],
      "metadata": {
        "colab": {
          "base_uri": "https://localhost:8080/"
        },
        "id": "2pk19TylCAOX",
        "outputId": "ec3f2209-fdbe-4f21-c659-6aab60a3b68f"
      },
      "execution_count": null,
      "outputs": [
        {
          "output_type": "stream",
          "name": "stdout",
          "text": [
            "[[7 8 9]\n",
            " [4 5 6]\n",
            " [1 2 3]]\n"
          ]
        }
      ]
    },
    {
      "cell_type": "markdown",
      "source": [
        "4.How can you determine the data type of elements in a NumPy array? Discuss the importance of data types\n",
        "in memory management and performance.\n",
        "\n",
        "In NumPy, you can determine the data type of elements in an array using the dtype attribute. Data types are crucial in NumPy for memory management and performance, as they determine how much space each element occupies and how the data is processed."
      ],
      "metadata": {
        "id": "xtq9wVovC34P"
      }
    },
    {
      "cell_type": "code",
      "source": [
        "arr = np.array([1,2,3,4])\n",
        "print(arr.dtype)"
      ],
      "metadata": {
        "colab": {
          "base_uri": "https://localhost:8080/"
        },
        "id": "hUm0aZrKDLaj",
        "outputId": "c3d1119a-6d62-49ff-d710-64bfbf90af3f"
      },
      "execution_count": null,
      "outputs": [
        {
          "output_type": "stream",
          "name": "stdout",
          "text": [
            "int64\n"
          ]
        }
      ]
    },
    {
      "cell_type": "markdown",
      "source": [
        "NumPy offers various data types, such as int8, int16, int32, and float64, each representing a different memory size. Choosing an appropriate data type minimizes memory usage, especially with large datasets.\n"
      ],
      "metadata": {
        "id": "Lby40TuvDYXQ"
      }
    },
    {
      "cell_type": "code",
      "source": [
        "arr_small_ints = np.array([1, 2, 3], dtype=np.int8)  # Uses only 1 byte per integer\n",
        "arr_large_ints = np.array([1, 2, 3], dtype=np.int64) # Uses 8 bytes per integer\n"
      ],
      "metadata": {
        "id": "tzIYPoocDj29"
      },
      "execution_count": null,
      "outputs": []
    },
    {
      "cell_type": "markdown",
      "source": [
        "Avoiding overflow\n",
        "Selecting an appropriate data type prevents overflow issues, where values exceed the data type’s limit. For example, using int8 restricts values to the range -128 to 127, while int32 has a much larger range.\n",
        "\n",
        "smaller data types reduce the amount of data the CPU processes at once, potentially speeding up operations. For example, using float32 instead of float64 can boost performance in applications that don’t require high precision.\n",
        "\n",
        "it helps us memory management and performance(main point)"
      ],
      "metadata": {
        "id": "658Ws99ZDzZl"
      }
    },
    {
      "cell_type": "markdown",
      "source": [
        "5. Define ndarrays in NumPy and explain their key features. How do they differ from standard Python lists?\n",
        "\n",
        "In NumPy, an ndarray (n-dimensional array) is a powerful, multi-dimensional array object that enables efficient computation and data handling in scientific computing. The ndarray is the core data structure in NumPy, supporting arrays of arbitrary dimensions and providing numerous features for data manipulation, mathematical operations, and indexing.\n",
        "\n",
        "key features:\n",
        "\n",
        "1.Homogeneous data\n",
        "All elements in an ndarray are of the same data type (dtype), which is specified when the array is created. This consistency allows for efficient memory allocation and computation.\n",
        "\n",
        "2.Multidimentional\n",
        "ndarrays can have any number of dimensions, from 1D (similar to a list) to n-dimensional (like matrices and tensors). The shape of the array is determined by the number of dimensions and the size along each axis.\n",
        "\n",
        "3.Efficient memory usage\n",
        "ndarrays store data in contiguous memory blocks, making them more memory-efficient than Python lists, especially for large datasets. NumPy also allows us to choose specific data types (e.g., int32, float64) to save space.\n",
        "\n",
        "4.vectorized operation:\n",
        "NumPy arrays support element-wise operations and broadcasting, enabling you to perform mathematical operations on entire arrays without writing explicit loops. This vectorization leads to faster execution compared to traditional loops in Python.\n",
        "\n",
        "5.Slicing and Indexing:\n",
        "ndarrays provide powerful indexing options, including slicing, integer-based indexing, boolean indexing, and advanced indexing with arrays, allowing for flexible data selection and manipulation.\n"
      ],
      "metadata": {
        "id": "CtNEX6y5FjiG"
      }
    },
    {
      "cell_type": "markdown",
      "source": [],
      "metadata": {
        "id": "xMLQ0hdBG8jH"
      }
    },
    {
      "cell_type": "markdown",
      "source": [],
      "metadata": {
        "id": "trwZkx_5Hgyr"
      }
    },
    {
      "cell_type": "markdown",
      "source": [
        "6. Analyze the performance benefits of NumPy arrays over Python lists for large-scale numerical operations.\n",
        "\n",
        "NumPy arrays (ndarrays) offer substantial performance benefits over Python lists, especially for large-scale numerical operations. These advantages come primarily from efficient memory usage, support for vectorized operations, and optimized implementations in C. Here’s a deeper analysis of these benefits:\n",
        "\n",
        "1. Memory Efficiency:\n",
        "\n",
        "Fixed Data Types:\n",
        "\n",
        "NumPy arrays store elements of a single data type (dtype), while Python lists can hold elements of mixed types. This homogeneity allows for contiguous memory allocation, where each element has a fixed size. In contrast, Python lists store pointers to objects, which takes more memory and leads to fragmented memory allocation.\n",
        "\n",
        "Compact storage:\n",
        "\n",
        "n a Python list of integers, each integer is stored as a Python object with metadata, which increases memory overhead. In a NumPy array, integers can be stored in a tightly packed format, which is more memory-efficient.\n",
        "\n",
        "Example:\n",
        "\n",
        "A NumPy array of 1,000,000 integers (e.g., np.int32) would require about 4 MB of memory (4 bytes per integer), while a Python list of the same integers would need significantly more memory because each integer is stored as a full-fledged Python object.\n",
        "\n",
        "2. Vectorized Operations and Broadcasting:\n",
        "\n",
        "No Looping in Python:\n",
        "\n",
        "NumPy arrays support vectorized operations, where operations are applied to all elements at once without the need for Python loops. This is done internally by optimized C code, making it significantly faster than explicit loops in Python lists.\n",
        "\n",
        "Broadcasting:\n",
        "\n",
        "NumPy arrays can automatically align shapes of arrays to perform element-wise operations. For example, you can add a scalar or a smaller array to a larger array without looping, which is not possible with standard Python lists.\n",
        "\n",
        "Example multiplying each element by 2\n"
      ],
      "metadata": {
        "id": "FsEZi86DHIh5"
      }
    },
    {
      "cell_type": "markdown",
      "source": [],
      "metadata": {
        "id": "_JyhiwvLTEhj"
      }
    },
    {
      "cell_type": "code",
      "source": [
        "import numpy as np\n",
        "arr = np.array([1, 2, 3, 4, 5])\n",
        "result = arr * 2  # Output: array([2, 4, 6, 8, 10])\n",
        "print(result)"
      ],
      "metadata": {
        "colab": {
          "base_uri": "https://localhost:8080/"
        },
        "id": "jtOavW_XIvsz",
        "outputId": "08abd314-093d-4b62-fe04-f10d6b4fbe1c"
      },
      "execution_count": null,
      "outputs": [
        {
          "output_type": "stream",
          "name": "stdout",
          "text": [
            "[ 2  4  6  8 10]\n"
          ]
        }
      ]
    },
    {
      "cell_type": "markdown",
      "source": [
        "3. Speed of Mathematical Operations\n",
        "\n",
        "Low-Level Implementation:\n",
        "NumPy is implemented in C, and it leverages BLAS (Basic Linear Algebra Subprograms) and LAPACK (Linear Algebra Package) libraries for optimized linear algebra routines. This results in faster execution for mathematical operations compared to Python’s high-level loops and list comprehensions.\n",
        "\n",
        "Efficient Algorithms: Many of NumPy’s functions, such as np.sum() or np.dot(), are implemented in low-level languages, avoiding Python’s loop overhead and ensuring faster computation.\n",
        "\n",
        "4. Parallelization and SIMD (Single Instruction, Multiple Data)\n",
        "\n",
        "SIMD Optimization: NumPy operations take advantage of SIMD, where a single CPU instruction operates on multiple data points at once, which enhances speed for large arrays.\n",
        "Multi-Threading: NumPy can also use multiple CPU cores for certain operations, allowing parallel execution, which is much faster than the single-threaded Python list operations.\n",
        "\n",
        "5. Convenience with Built-in Functions\n",
        "\n",
        "NumPy provides a vast array of optimized functions (e.g., np.mean, np.std, np.dot) for common operations. These are typically much faster than equivalent operations on Python lists because they avoid repeated function calls in Python and take advantage of compiled code.\n",
        "\n",
        "6. Example: Comparing Performance on Large Data\n",
        "Here’s a performance comparison for element-wise addition of two large arrays, one using a NumPy array and the other using a Python list:"
      ],
      "metadata": {
        "id": "a8q6s3lzI57d"
      }
    },
    {
      "cell_type": "code",
      "source": [
        "import numpy as np\n",
        "import time\n",
        "\n",
        "# Creating large datasets\n",
        "size = 10**6\n",
        "arr1 = np.arange(size)\n",
        "arr2 = np.arange(size)\n",
        "list1 = list(range(size))\n",
        "list2 = list(range(size))\n",
        "\n",
        "# Using NumPy array for addition\n",
        "start_time = time.time()\n",
        "result_np = arr1 + arr2\n",
        "print(\"NumPy array addition took:\", time.time() - start_time, \"seconds\")\n",
        "\n",
        "# Using Python list for addition\n",
        "start_time = time.time()\n",
        "result_list = [list1[i] + list2[i] for i in range(size)]\n",
        "print(\"Python list addition took:\", time.time() - start_time, \"seconds\")\n"
      ],
      "metadata": {
        "colab": {
          "base_uri": "https://localhost:8080/"
        },
        "id": "mcNdMiY3KCdi",
        "outputId": "84094c75-f7a0-42a3-fe17-1fddea08e497"
      },
      "execution_count": null,
      "outputs": [
        {
          "output_type": "stream",
          "name": "stdout",
          "text": [
            "NumPy array addition took: 0.010515689849853516 seconds\n",
            "Python list addition took: 0.1821577548980713 seconds\n"
          ]
        }
      ]
    },
    {
      "cell_type": "markdown",
      "source": [],
      "metadata": {
        "id": "qU7xd4MFKZu8"
      }
    },
    {
      "cell_type": "markdown",
      "source": [
        "7. Compare vstack() and hstack() functions in NumPy. Provide examples demonstrating their usage and\n",
        "output.\n",
        "\n",
        "In NumPy, the vstack() and hstack() functions are used to stack arrays vertically and horizontally, respectively. These functions are particularly useful for combining arrays along different axes, and they simplify the process of array manipulation.\n",
        "\n",
        "1. np.vstack()\n",
        "\n",
        "Function: np.vstack() stacks arrays vertically (row-wise).\n",
        "\n",
        "Usage: It combines arrays along the vertical axis (axis 0).\n",
        "\n",
        "Input Requirement: Arrays must have the same number of columns, but they can differ in the number of rows."
      ],
      "metadata": {
        "id": "SLFQiBifKpDD"
      }
    },
    {
      "cell_type": "code",
      "source": [
        "#example\n",
        "import numpy as np\n",
        "\n",
        "# Creating two 1D arrays\n",
        "arr1 = np.array([1, 2, 3])\n",
        "arr2 = np.array([4, 5, 6])\n",
        "\n",
        "# Stacking them vertically\n",
        "result = np.vstack((arr1, arr2))\n",
        "print(\"Vertical Stack (vstack):\\n\", result)\n"
      ],
      "metadata": {
        "colab": {
          "base_uri": "https://localhost:8080/"
        },
        "id": "wK_iUxSmLHpr",
        "outputId": "52668f98-ec96-4147-c9b9-806f2a04662d"
      },
      "execution_count": null,
      "outputs": [
        {
          "output_type": "stream",
          "name": "stdout",
          "text": [
            "Vertical Stack (vstack):\n",
            " [[1 2 3]\n",
            " [4 5 6]]\n"
          ]
        }
      ]
    },
    {
      "cell_type": "markdown",
      "source": [
        "2. np.hstack()\n",
        "Function: np.hstack() stacks arrays horizontally (column-wise).\n",
        "\n",
        "Usage: It combines arrays along the horizontal axis (axis 1).\n",
        "\n",
        "Input Requirement: Arrays must have the same number of rows, but they can differ in the number of columns.\n"
      ],
      "metadata": {
        "id": "d33X27zeLXhn"
      }
    },
    {
      "cell_type": "markdown",
      "source": [],
      "metadata": {
        "id": "8JFwuSaAMdDd"
      }
    },
    {
      "cell_type": "code",
      "source": [
        "#EXAMPLE\n",
        "# Creating two 2D arrays with the same number of rows\n",
        "arr1 = np.array([[1, 2, 3]])\n",
        "arr2 = np.array([[4, 5, 6]])\n",
        "\n",
        "# Stacking them horizontally\n",
        "result = np.hstack((arr1, arr2))\n",
        "print(\"Horizontal Stack (hstack):\\n\", result)\n"
      ],
      "metadata": {
        "colab": {
          "base_uri": "https://localhost:8080/"
        },
        "id": "mk12UojRLiwd",
        "outputId": "0b219009-850f-44da-90b7-34af3cafd205"
      },
      "execution_count": null,
      "outputs": [
        {
          "output_type": "stream",
          "name": "stdout",
          "text": [
            "Horizontal Stack (hstack):\n",
            " [[1 2 3 4 5 6]]\n"
          ]
        }
      ]
    },
    {
      "cell_type": "code",
      "source": [],
      "metadata": {
        "id": "WgY6O90CMgax"
      },
      "execution_count": null,
      "outputs": []
    },
    {
      "cell_type": "markdown",
      "source": [
        "8. Explain the differences between fliplr() and flipud() methods in NumPy, including their effects on various\n",
        "array dimensions.\n",
        "\n",
        "In NumPy, the fliplr() and flipud() functions are used to flip arrays along specific axes, providing different ways to reverse the order of elements in a 2D array (or higher-dimensional arrays). Here’s a breakdown of how each function works and their differences.\n",
        "\n",
        "1. np.fliplr()\n",
        "\n",
        "Function: np.fliplr() flips an array along the left-right (horizontal) axis.\n",
        "\n",
        "Effect: Reverses the order of columns in each row of a 2D array.\n",
        "\n",
        "Input Requirement: Works on arrays with two or more dimensions (2D or higher). If applied to a 1D array, it raises an error."
      ],
      "metadata": {
        "id": "xJLMO9AwMjvr"
      }
    },
    {
      "cell_type": "code",
      "source": [
        "import numpy as np\n",
        "\n",
        "# Creating a 2D array\n",
        "arr = np.array([[1, 2, 3],\n",
        "                [4, 5, 6],\n",
        "                [7, 8, 9]])\n",
        "\n",
        "# Applying fliplr\n",
        "result = np.fliplr(arr)\n",
        "print(\"Original Array:\\n\", arr)\n",
        "print(\"\\nFliplr Result:\\n\", result)\n",
        "\n",
        "#In this example, np.fliplr() reverses the order of columns in each row, resulting in a horizontally flipped array.\n"
      ],
      "metadata": {
        "colab": {
          "base_uri": "https://localhost:8080/"
        },
        "id": "QzRRUgNlNjkR",
        "outputId": "afed152e-ee4b-4c67-8d33-b851927b6498"
      },
      "execution_count": null,
      "outputs": [
        {
          "output_type": "stream",
          "name": "stdout",
          "text": [
            "Original Array:\n",
            " [[1 2 3]\n",
            " [4 5 6]\n",
            " [7 8 9]]\n",
            "\n",
            "Fliplr Result:\n",
            " [[3 2 1]\n",
            " [6 5 4]\n",
            " [9 8 7]]\n"
          ]
        }
      ]
    },
    {
      "cell_type": "markdown",
      "source": [],
      "metadata": {
        "id": "Gi3HdHeTOAKO"
      }
    },
    {
      "cell_type": "markdown",
      "source": [
        "2. np.flipud()\n",
        "\n",
        "Function: np.flipud() flips an array along the up-down (vertical) axis.\n",
        "\n",
        "Effect: Reverses the order of rows in a 2D array.\n",
        "\n",
        "Input Requirement: Works on arrays with one or more dimensions, so it can also be applied to a 1D array."
      ],
      "metadata": {
        "id": "Nrrj2-sgOCoc"
      }
    },
    {
      "cell_type": "code",
      "source": [
        "# Using the same 2D array\n",
        "arr = np.array([[1, 2, 3],\n",
        "                [4, 5, 6],\n",
        "                [7, 8, 9]])\n",
        "\n",
        "# Applying flipud\n",
        "result = np.flipud(arr)\n",
        "print(\"Original Array:\\n\", arr)\n",
        "print(\"\\nFlipud Result:\\n\", result)\n"
      ],
      "metadata": {
        "colab": {
          "base_uri": "https://localhost:8080/"
        },
        "id": "HI0xFuXkOD3o",
        "outputId": "a9882e3f-5af6-417f-96e7-218cc6935d3a"
      },
      "execution_count": null,
      "outputs": [
        {
          "output_type": "stream",
          "name": "stdout",
          "text": [
            "Original Array:\n",
            " [[1 2 3]\n",
            " [4 5 6]\n",
            " [7 8 9]]\n",
            "\n",
            "Flipud Result:\n",
            " [[7 8 9]\n",
            " [4 5 6]\n",
            " [1 2 3]]\n"
          ]
        }
      ]
    },
    {
      "cell_type": "markdown",
      "source": [
        "Here, np.flipud() reverses the order of rows, resulting in a vertically flipped array."
      ],
      "metadata": {
        "id": "HIyzvUkyOUPv"
      }
    },
    {
      "cell_type": "markdown",
      "source": [],
      "metadata": {
        "id": "KWvEy8bjOWUB"
      }
    },
    {
      "cell_type": "code",
      "source": [
        "#example with higher dimention\n",
        "# Creating a 3D array\n",
        "arr_3d = np.array([[[1, 2, 3], [4, 5, 6], [7, 8, 9]],\n",
        "                   [[10, 11, 12], [13, 14, 15], [16, 17, 18]]])\n",
        "\n",
        "# Applying fliplr and flipud\n",
        "fliplr_result = np.fliplr(arr_3d)\n",
        "flipud_result = np.flipud(arr_3d)\n",
        "\n",
        "print(\"Original 3D Array:\\n\", arr_3d)\n",
        "print(\"\\nFliplr Result (3D):\\n\", fliplr_result)\n",
        "print(\"\\nFlipud Result (3D):\\n\", flipud_result)\n"
      ],
      "metadata": {
        "colab": {
          "base_uri": "https://localhost:8080/"
        },
        "id": "cGS-9gY0ObPr",
        "outputId": "c92629ad-e01f-4228-d7ad-76ee7531b257"
      },
      "execution_count": null,
      "outputs": [
        {
          "output_type": "stream",
          "name": "stdout",
          "text": [
            "Original 3D Array:\n",
            " [[[ 1  2  3]\n",
            "  [ 4  5  6]\n",
            "  [ 7  8  9]]\n",
            "\n",
            " [[10 11 12]\n",
            "  [13 14 15]\n",
            "  [16 17 18]]]\n",
            "\n",
            "Fliplr Result (3D):\n",
            " [[[ 7  8  9]\n",
            "  [ 4  5  6]\n",
            "  [ 1  2  3]]\n",
            "\n",
            " [[16 17 18]\n",
            "  [13 14 15]\n",
            "  [10 11 12]]]\n",
            "\n",
            "Flipud Result (3D):\n",
            " [[[10 11 12]\n",
            "  [13 14 15]\n",
            "  [16 17 18]]\n",
            "\n",
            " [[ 1  2  3]\n",
            "  [ 4  5  6]\n",
            "  [ 7  8  9]]]\n"
          ]
        }
      ]
    },
    {
      "cell_type": "markdown",
      "source": [],
      "metadata": {
        "id": "vU5wwnRAO7nn"
      }
    },
    {
      "cell_type": "markdown",
      "source": [
        "9. Discuss the functionality of the array_split() method in NumPy. How does it handle uneven splits?\n",
        "\n",
        "The np.array_split() function in NumPy is used to split an array into a specified number of sub-arrays. It’s versatile and can handle cases where the array cannot be divided evenly, unlike np.split(), which requires equal splits and raises an error if the array cannot be split equally. Here’s a breakdown of array_split() and how it manages uneven splits:\n",
        "\n",
        "np.array_split() Functionality\n",
        "\n",
        "split an array into multiple sub array\n",
        "\n",
        "Parameters:\n",
        "\n",
        "array: The input array to split.\n",
        "sections: The number of sections (sub-arrays) to divide the array into.\n",
        "axis (optional): Specifies the axis along which to split the array (default is axis=0).\n",
        "\n",
        "\n",
        "Handling Uneven Splits\n",
        "\n",
        "When the number of elements in the array is not perfectly divisible by the specified sections, np.array_split() distributes the remaining elements across the first few sub-arrays, making them slightly larger than the others.\n",
        "\n",
        "Even Split:\n",
        "\n",
        " If the number of elements is divisible by the sections, all sub-arrays will have the same size.\n",
        "Uneven Split: If the number of elements is not divisible by the sections, array_split() ensures that the first few sub-arrays contain one more element than the others."
      ],
      "metadata": {
        "id": "JsTANZMuO71B"
      }
    },
    {
      "cell_type": "code",
      "source": [
        "#Example of uneven split\n",
        "\n",
        "import numpy as np\n",
        "\n",
        "# Creating an array with 10 elements\n",
        "arr = np.array([1, 2, 3, 4, 5, 6, 7, 8, 9, 10])\n",
        "\n",
        "# Splitting into 3 sub-arrays (10 elements / 3 sections is not an integer)\n",
        "result = np.array_split(arr, 3)\n",
        "print(\"Original Array:\", arr)\n",
        "print(\"\\nArray Split Result (3 parts):\")\n",
        "for i, subarray in enumerate(result):\n",
        "    print(f\"Sub-array {i+1}: {subarray}\")\n"
      ],
      "metadata": {
        "colab": {
          "base_uri": "https://localhost:8080/"
        },
        "id": "hQxzA6ZMQoYK",
        "outputId": "98447916-3ea9-4d3a-f86d-6bca4e73a747"
      },
      "execution_count": null,
      "outputs": [
        {
          "output_type": "stream",
          "name": "stdout",
          "text": [
            "Original Array: [ 1  2  3  4  5  6  7  8  9 10]\n",
            "\n",
            "Array Split Result (3 parts):\n",
            "Sub-array 1: [1 2 3 4]\n",
            "Sub-array 2: [5 6 7]\n",
            "Sub-array 3: [ 8  9 10]\n"
          ]
        }
      ]
    },
    {
      "cell_type": "code",
      "source": [
        "#specifying for higher dimension\n",
        "\n",
        "arr_2d = np.array([[1, 2, 3, 4],\n",
        "                   [5, 6, 7, 8]])\n",
        "\n",
        "# Splitting along columns (axis=1)\n",
        "result_axis1 = np.array_split(arr_2d, 3, axis=1)\n",
        "print(\"\\nArray Split Result along columns (axis=1):\")\n",
        "for i, subarray in enumerate(result_axis1):\n",
        "    print(f\"Sub-array {i+1}:\\n{subarray}\")\n"
      ],
      "metadata": {
        "colab": {
          "base_uri": "https://localhost:8080/"
        },
        "id": "5P6y-NQ5Sm16",
        "outputId": "98be3e15-992b-478f-e592-d071c312495a"
      },
      "execution_count": null,
      "outputs": [
        {
          "output_type": "stream",
          "name": "stdout",
          "text": [
            "\n",
            "Array Split Result along columns (axis=1):\n",
            "Sub-array 1:\n",
            "[[1 2]\n",
            " [5 6]]\n",
            "Sub-array 2:\n",
            "[[3]\n",
            " [7]]\n",
            "Sub-array 3:\n",
            "[[4]\n",
            " [8]]\n"
          ]
        }
      ]
    },
    {
      "cell_type": "markdown",
      "source": [],
      "metadata": {
        "id": "DLaowMYZViyg"
      }
    },
    {
      "cell_type": "markdown",
      "source": [
        "10. Explain the concepts of vectorization and broadcasting in NumPy. How do they contribute to efficient array\n",
        "operations?\n",
        "\n",
        "Vectorization and broadcasting are two core concepts in NumPy that significantly improve the efficiency of array operations by minimizing the need for explicit loops in Python. Here’s how they work and why they’re essential for performance:\n",
        "\n",
        "1. Vectorization\n",
        "Definition: Vectorization in NumPy refers to performing operations on entire arrays without using explicit Python loops. Instead, operations are applied element-wise at once across the whole array.\n",
        "Purpose: It replaces the need for repetitive, loop-based calculations, which can be slow in Python due to its interpreted nature. NumPy leverages low-level, optimized C-based routines for these operations, leading to faster computation.\n",
        "\n"
      ],
      "metadata": {
        "id": "SGZqYbqXTGno"
      }
    },
    {
      "cell_type": "code",
      "source": [
        "#Example of vectorization\n",
        "import numpy as np\n",
        "\n",
        "# Creating a large array\n",
        "arr = np.array([1, 2, 3, 4, 5])\n",
        "\n",
        "# Vectorized operation (adds 2 to each element in the array)\n",
        "result = arr + 2\n",
        "\n",
        "print(result)\n"
      ],
      "metadata": {
        "colab": {
          "base_uri": "https://localhost:8080/"
        },
        "id": "3aNl7q8xTjks",
        "outputId": "87c9ddae-ee9a-4fe0-87d8-12bc40f77c68"
      },
      "execution_count": null,
      "outputs": [
        {
          "output_type": "stream",
          "name": "stdout",
          "text": [
            "[3 4 5 6 7]\n"
          ]
        }
      ]
    },
    {
      "cell_type": "markdown",
      "source": [
        "In this example, arr + 2 is a vectorized operation that adds 2 to each element without needing a loop. Internally, NumPy handles this using efficient, compiled code, making it much faster than if you had used a loop."
      ],
      "metadata": {
        "id": "qXmqRYr4Tqbn"
      }
    },
    {
      "cell_type": "markdown",
      "source": [],
      "metadata": {
        "id": "StNhnOXKPLD9"
      }
    },
    {
      "cell_type": "markdown",
      "source": [
        "2.Broadcasting\n",
        "\n",
        "Definition: Broadcasting in NumPy allows arrays with different shapes to be used in arithmetic operations, where one array’s shape is automatically “stretched” to match the other’s shape.\n",
        "\n",
        "Purpose: Broadcasting enables operations between arrays of different sizes without creating unnecessary copies, saving both memory and computation time.\n",
        "\n",
        "How Broadcasting Works\n",
        "\n",
        "Broadcasting follows a set of rules to align array dimensions for operations. The two main rules are:\n",
        "\n",
        "Match from Right to Left: Starting from the last dimension, NumPy compares each dimension of the two arrays. If they are equal or one of them is 1, the dimensions are compatible.\n",
        "Shape Expansion: If an array’s dimension is 1, it’s expanded to match the corresponding dimension of the other array. If the dimensions are incompatible, NumPy raises an error\n"
      ],
      "metadata": {
        "id": "41qyzgHbT6La"
      }
    },
    {
      "cell_type": "code",
      "source": [
        "# Creating a 2D array and a 1D array\n",
        "arr_2d = np.array([[1, 2, 3], [4, 5, 6], [7, 8, 9]])\n",
        "arr_1d = np.array([10, 20, 30])\n",
        "\n",
        "# Broadcasting arr_1d to match arr_2d shape\n",
        "result = arr_2d + arr_1d\n",
        "\n",
        "print(\"2D Array:\\n\", arr_2d)\n",
        "print(\"\\n1D Array:\", arr_1d)\n",
        "print(\"\\nResult of Broadcasting Addition:\\n\", result)\n"
      ],
      "metadata": {
        "colab": {
          "base_uri": "https://localhost:8080/"
        },
        "id": "DNcFUbuYUjTQ",
        "outputId": "3e133550-2982-402e-81e2-1268547fa58f"
      },
      "execution_count": null,
      "outputs": [
        {
          "output_type": "stream",
          "name": "stdout",
          "text": [
            "2D Array:\n",
            " [[1 2 3]\n",
            " [4 5 6]\n",
            " [7 8 9]]\n",
            "\n",
            "1D Array: [10 20 30]\n",
            "\n",
            "Result of Broadcasting Addition:\n",
            " [[11 22 33]\n",
            " [14 25 36]\n",
            " [17 28 39]]\n"
          ]
        }
      ]
    },
    {
      "cell_type": "markdown",
      "source": [
        "How Vectorization and Broadcasting Contribute to Efficiency\n",
        "\n",
        "Reduced Python Overhead:\n",
        "\n",
        "Vectorization removes the need for Python-level loops, avoiding interpreter overhead and allowing for faster, C-level execution.\n",
        "Memory Efficiency: Broadcasting performs operations without explicitly copying data to match shapes, saving memory.\n",
        "\n",
        "\n",
        "Parallel Processing:\n",
        "\n",
        "NumPy operations are often internally optimized for parallel processing on CPUs, making large-scale calculations faster.\n",
        "Together, these techniques make NumPy ideal for large-scale scientific and data-intensive applications where performance is crucial.\n"
      ],
      "metadata": {
        "id": "Rk8eM0aCU0Ru"
      }
    },
    {
      "cell_type": "code",
      "source": [],
      "metadata": {
        "id": "kdMFvWnsU-my"
      },
      "execution_count": null,
      "outputs": []
    },
    {
      "cell_type": "code",
      "source": [],
      "metadata": {
        "id": "FoV11gBjU-pT"
      },
      "execution_count": null,
      "outputs": []
    },
    {
      "cell_type": "code",
      "source": [],
      "metadata": {
        "id": "CpUEK3ZBU-rw"
      },
      "execution_count": null,
      "outputs": []
    },
    {
      "cell_type": "code",
      "source": [],
      "metadata": {
        "id": "q6GzROVuU-vR"
      },
      "execution_count": null,
      "outputs": []
    },
    {
      "cell_type": "markdown",
      "source": [
        "Now Starts practical question solutions\n"
      ],
      "metadata": {
        "id": "UFkQvT4wVAIh"
      }
    },
    {
      "cell_type": "code",
      "source": [
        "# 1. Create a 3x3 NumPy array with random integers between 1 and 100. Then, interchange its rows and columns\n",
        "import numpy as np\n",
        "\n",
        "array = np.random.randint(1,101,(3,3)) #upper limit is exclusive so we need to take 101 for 100\n",
        "print(\"actual array\")\n",
        "print(array)\n",
        "print(\"transposed array\")\n",
        "print(array.T)\n"
      ],
      "metadata": {
        "id": "QMII7OzCVJwg",
        "colab": {
          "base_uri": "https://localhost:8080/"
        },
        "outputId": "6b9ed074-0e10-4717-b637-e464cb28d7bf"
      },
      "execution_count": 10,
      "outputs": [
        {
          "output_type": "stream",
          "name": "stdout",
          "text": [
            "actual array\n",
            "[[53 26 45]\n",
            " [91 66 96]\n",
            " [90 19 76]]\n",
            "transposed array\n",
            "[[53 91 90]\n",
            " [26 66 19]\n",
            " [45 96 76]]\n"
          ]
        }
      ]
    },
    {
      "cell_type": "code",
      "source": [
        "# 2. Generate a 1D NumPy array with 10 elements. Reshape it into a 2x5 array, then into a 5x2 array.\n",
        "arr = np.random.randint(1,10,10)\n",
        "print(arr)\n",
        "print(\"reshaped into 2X5\")\n",
        "res1 = arr.reshape(2,5)\n",
        "print(res1)\n",
        "print(\"reshaped into 5X2\")\n",
        "res2 = arr.reshape(5,2)\n",
        "print(res2)"
      ],
      "metadata": {
        "colab": {
          "base_uri": "https://localhost:8080/"
        },
        "id": "EGLFQaHiTcy6",
        "outputId": "c319603b-96da-4b34-8db6-df0a86f65ed0"
      },
      "execution_count": 17,
      "outputs": [
        {
          "output_type": "stream",
          "name": "stdout",
          "text": [
            "[5 1 7 6 6 6 6 7 9 5]\n",
            "reshaped into 2X5\n",
            "[[5 1 7 6 6]\n",
            " [6 6 7 9 5]]\n",
            "reshaped into 5X2\n",
            "[[5 1]\n",
            " [7 6]\n",
            " [6 6]\n",
            " [6 7]\n",
            " [9 5]]\n"
          ]
        }
      ]
    },
    {
      "cell_type": "code",
      "source": [
        "#3. Create a 4x4 NumPy array with random float values. Add a border of zeros around it, resulting in a 6x6 array.\n",
        "zero = np.zeros((6,6))\n",
        "print(zero)\n",
        "rand = np.random.rand(4,4)\n",
        "zero[1:5,1:5] = rand\n",
        "print(zero)"
      ],
      "metadata": {
        "colab": {
          "base_uri": "https://localhost:8080/"
        },
        "id": "tg2IxXubWM6k",
        "outputId": "5d22fd07-f865-419f-f246-963330b0621c"
      },
      "execution_count": 22,
      "outputs": [
        {
          "output_type": "stream",
          "name": "stdout",
          "text": [
            "[[0. 0. 0. 0. 0. 0.]\n",
            " [0. 0. 0. 0. 0. 0.]\n",
            " [0. 0. 0. 0. 0. 0.]\n",
            " [0. 0. 0. 0. 0. 0.]\n",
            " [0. 0. 0. 0. 0. 0.]\n",
            " [0. 0. 0. 0. 0. 0.]]\n",
            "[[0.         0.         0.         0.         0.         0.        ]\n",
            " [0.         0.66780321 0.93666405 0.71825428 0.92132859 0.        ]\n",
            " [0.         0.00425412 0.19927788 0.42970867 0.26265624 0.        ]\n",
            " [0.         0.75538219 0.34092028 0.46895833 0.40832972 0.        ]\n",
            " [0.         0.8149398  0.67137989 0.24705298 0.01616256 0.        ]\n",
            " [0.         0.         0.         0.         0.         0.        ]]\n"
          ]
        }
      ]
    },
    {
      "cell_type": "code",
      "source": [
        "# Using NumPy, create an array of integers from 10 to 60 with a step of 5.\n",
        "arr = np.arange(10,60,5)\n",
        "print(arr)\n"
      ],
      "metadata": {
        "colab": {
          "base_uri": "https://localhost:8080/"
        },
        "id": "j1sDtFvLZDkX",
        "outputId": "678497c2-d04f-4568-94ae-97e4f39327cb"
      },
      "execution_count": 24,
      "outputs": [
        {
          "output_type": "stream",
          "name": "stdout",
          "text": [
            "[10 15 20 25 30 35 40 45 50 55]\n"
          ]
        }
      ]
    },
    {
      "cell_type": "code",
      "source": [
        "#5. Create a NumPy array of strings ['python', 'numpy', 'pandas']. Apply different case transformations\n",
        "#(uppercase, lowercase, title case, etc.) to each element.\n",
        "arr = ['python', 'numpy', 'pandas']\n",
        "\n",
        "print(\"to upper case\",np.char.upper(arr))\n",
        "print(\"to lower case\",np.char.lower(arr))\n",
        "print(\"title case\",np.char.title(arr))\n",
        "print(\"capitalize\",np.char.capitalize(arr))\n"
      ],
      "metadata": {
        "colab": {
          "base_uri": "https://localhost:8080/"
        },
        "id": "e_zWgnUDa7XF",
        "outputId": "9f320f55-62bb-4e27-d3b7-c29abd18fb53"
      },
      "execution_count": 31,
      "outputs": [
        {
          "output_type": "stream",
          "name": "stdout",
          "text": [
            "to upper case ['PYTHON' 'NUMPY' 'PANDAS']\n",
            "to lower case ['python' 'numpy' 'pandas']\n",
            "title case ['Python' 'Numpy' 'Pandas']\n",
            "capitalize ['Python' 'Numpy' 'Pandas']\n"
          ]
        }
      ]
    },
    {
      "cell_type": "code",
      "source": [
        "# 6.Generate a NumPy array of words. Insert a space between each character of every word in the array.\n",
        "arr = np.array([\"python\",\"hello\",\"java\",\"c++\"])\n",
        "spaced = np.char.join(\" \",arr)\n",
        "print(spaced)"
      ],
      "metadata": {
        "colab": {
          "base_uri": "https://localhost:8080/"
        },
        "id": "IpXrGkbDhpbg",
        "outputId": "a958b3f3-5302-46db-a4ea-b0331ebc1f60"
      },
      "execution_count": 32,
      "outputs": [
        {
          "output_type": "stream",
          "name": "stdout",
          "text": [
            "['p y t h o n' 'h e l l o' 'j a v a' 'c + +']\n"
          ]
        }
      ]
    },
    {
      "cell_type": "code",
      "source": [
        "#7.Create two 2D NumPy arrays and perform element-wise addition, subtraction, multiplication, and division.\n",
        "import numpy as np\n",
        "\n",
        "# Create two 2D NumPy arrays\n",
        "arr1 = np.array([[1, 2, 3], [4, 5, 6]])\n",
        "arr2 = np.array([[7, 8, 9], [10, 11, 12]])\n",
        "\n",
        "# Perform element-wise addition\n",
        "addition_result = arr1 + arr2\n",
        "print(\"Element-wise Addition:\\n\", addition_result)\n",
        "\n",
        "# Perform element-wise subtraction\n",
        "subtraction_result = arr1 - arr2\n",
        "print(\"\\nElement-wise Subtraction:\\n\", subtraction_result)\n",
        "\n",
        "# Perform element-wise multiplication\n",
        "multiplication_result = arr1 * arr2\n",
        "print(\"\\nElement-wise Multiplication:\\n\", multiplication_result)\n",
        "\n",
        "# Perform element-wise division\n",
        "division_result = arr1 / arr2\n",
        "print(\"\\nElement-wise Division:\\n\", division_result)\n"
      ],
      "metadata": {
        "colab": {
          "base_uri": "https://localhost:8080/"
        },
        "id": "jDNJ2udniThI",
        "outputId": "a3b0ba82-83b7-4929-b52a-48f8d7b65d60"
      },
      "execution_count": 39,
      "outputs": [
        {
          "output_type": "stream",
          "name": "stdout",
          "text": [
            "Element-wise Addition:\n",
            " [[ 8 10 12]\n",
            " [14 16 18]]\n",
            "\n",
            "Element-wise Subtraction:\n",
            " [[-6 -6 -6]\n",
            " [-6 -6 -6]]\n",
            "\n",
            "Element-wise Multiplication:\n",
            " [[ 7 16 27]\n",
            " [40 55 72]]\n",
            "\n",
            "Element-wise Division:\n",
            " [[0.14285714 0.25       0.33333333]\n",
            " [0.4        0.45454545 0.5       ]]\n"
          ]
        }
      ]
    },
    {
      "cell_type": "code",
      "source": [
        "#8. Use NumPy to create a 5x5 identity matrix, then extract its diagonal elements.\n",
        "identity = np.eye(5)\n",
        "print(identity)\n",
        "print(\"all diagonal element\")\n",
        "print(np.diagonal(identity))"
      ],
      "metadata": {
        "colab": {
          "base_uri": "https://localhost:8080/"
        },
        "id": "eemSb0j9jjGZ",
        "outputId": "c461f9b6-39c0-4e25-c00f-7bf70be02764"
      },
      "execution_count": 41,
      "outputs": [
        {
          "output_type": "stream",
          "name": "stdout",
          "text": [
            "[[1. 0. 0. 0. 0.]\n",
            " [0. 1. 0. 0. 0.]\n",
            " [0. 0. 1. 0. 0.]\n",
            " [0. 0. 0. 1. 0.]\n",
            " [0. 0. 0. 0. 1.]]\n",
            "all diagonal element\n",
            "[1. 1. 1. 1. 1.]\n"
          ]
        }
      ]
    },
    {
      "cell_type": "code",
      "source": [
        "#9. Generate a NumPy array of 100 random integers between 0 and 1000. Find and display all prime numbers in\n",
        "#this array.\n",
        "arr = np.linspace(0,1000,100)\n",
        "\n",
        "# Function to check for prime numbers\n",
        "def is_prime(n):\n",
        "    if n <= 1:\n",
        "        return False\n",
        "    for i in range(2, int(n**0.5) + 1):\n",
        "        if n % i == 0:\n",
        "            return False\n",
        "    return True\n",
        "\n",
        "# Find all prime numbers in the array\n",
        "prime_numbers = [num for num in arr if is_prime(num)]\n",
        "\n",
        "print(\"Prime Numbers in the Array:\", prime_numbers)"
      ],
      "metadata": {
        "colab": {
          "base_uri": "https://localhost:8080/"
        },
        "id": "rFluucTqmXBr",
        "outputId": "127bbecf-3505-498d-aad5-35894bccedde"
      },
      "execution_count": 45,
      "outputs": [
        {
          "output_type": "stream",
          "name": "stdout",
          "text": [
            "Prime Numbers in the Array: [10.1010101010101, 20.2020202020202, 30.3030303030303, 40.4040404040404, 50.505050505050505, 60.6060606060606, 70.7070707070707, 80.8080808080808, 90.9090909090909, 101.01010101010101, 111.1111111111111, 121.2121212121212, 131.3131313131313, 141.4141414141414, 151.5151515151515, 161.6161616161616, 171.7171717171717, 181.8181818181818, 191.91919191919192, 202.02020202020202, 212.1212121212121, 222.2222222222222, 232.3232323232323, 242.4242424242424, 252.5252525252525, 262.6262626262626, 272.7272727272727, 282.8282828282828, 292.9292929292929, 303.030303030303, 313.1313131313131, 323.2323232323232, 333.3333333333333, 343.4343434343434, 353.5353535353535, 363.6363636363636, 373.73737373737373, 383.83838383838383, 393.93939393939394, 404.04040404040404, 414.1414141414141, 424.2424242424242, 434.3434343434343, 444.4444444444444, 454.5454545454545, 464.6464646464646, 474.7474747474747, 484.8484848484848, 494.9494949494949, 505.050505050505, 515.1515151515151, 525.2525252525252, 535.3535353535353, 545.4545454545454, 555.5555555555555, 565.6565656565656, 575.7575757575758, 585.8585858585858, 595.959595959596, 606.060606060606, 616.1616161616162, 626.2626262626262, 636.3636363636364, 646.4646464646464, 656.5656565656565, 666.6666666666666, 676.7676767676767, 686.8686868686868, 696.9696969696969, 707.070707070707, 717.1717171717171, 727.2727272727273, 737.3737373737373, 747.4747474747475, 757.5757575757575, 767.6767676767677, 777.7777777777777, 787.8787878787879, 797.9797979797979, 808.0808080808081, 818.1818181818181, 828.2828282828282, 838.3838383838383, 848.4848484848484, 858.5858585858585, 868.6868686868686, 878.7878787878788, 888.8888888888888, 898.989898989899, 909.090909090909, 919.1919191919192, 929.2929292929292, 939.3939393939394, 949.4949494949494, 959.5959595959596, 969.6969696969696, 979.7979797979797, 989.8989898989898]\n"
          ]
        }
      ]
    },
    {
      "cell_type": "code",
      "source": [
        "#10. Create a NumPy array representing daily temperatures for a month. Calculate and display the weekly\n",
        "#average\n",
        "import numpy as np\n",
        "\n",
        "temperatures = np.random.uniform(0, 40, size=30)\n",
        "print(\"Daily Temperatures for a Month:\", temperatures)\n",
        "\n",
        "weeks = temperatures[:28].reshape(4, 7)\n",
        "print(\"\\nWeekly Temperatures:\\n\", weeks)\n",
        "\n",
        "\n",
        "weekly_average = np.mean(weeks, axis=1)\n",
        "print(\"\\nWeekly Average Temperatures:\", weekly_average)\n"
      ],
      "metadata": {
        "colab": {
          "base_uri": "https://localhost:8080/"
        },
        "id": "bFtv3AmPnYkk",
        "outputId": "36a64df1-50f4-4fcf-8637-db3944a863c8"
      },
      "execution_count": 47,
      "outputs": [
        {
          "output_type": "stream",
          "name": "stdout",
          "text": [
            "Daily Temperatures for a Month: [32.26763916  2.3812235   8.2098729  16.21022415 30.19896352  3.77475307\n",
            " 20.04756159 19.86697492 18.65380482 28.1282078  24.04710042 24.403803\n",
            "  1.42206306  8.33368636 27.51534003 27.00196934 37.83964267 15.72047929\n",
            " 26.56126242 12.95372593  0.29795213 22.91318774  4.29420149  4.41095144\n",
            "  4.29047651 28.24917229 20.80467838  2.58929391 39.16782912  1.94575713]\n",
            "\n",
            "Weekly Temperatures:\n",
            " [[32.26763916  2.3812235   8.2098729  16.21022415 30.19896352  3.77475307\n",
            "  20.04756159]\n",
            " [19.86697492 18.65380482 28.1282078  24.04710042 24.403803    1.42206306\n",
            "   8.33368636]\n",
            " [27.51534003 27.00196934 37.83964267 15.72047929 26.56126242 12.95372593\n",
            "   0.29795213]\n",
            " [22.91318774  4.29420149  4.41095144  4.29047651 28.24917229 20.80467838\n",
            "   2.58929391]]\n",
            "\n",
            "Weekly Average Temperatures: [16.15574827 17.83652005 21.12719597 12.50742311]\n"
          ]
        }
      ]
    }
  ]
}